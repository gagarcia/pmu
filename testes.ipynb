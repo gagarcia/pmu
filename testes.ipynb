{
 "cells": [
  {
   "cell_type": "code",
   "execution_count": 7,
   "id": "hungry-baking",
   "metadata": {},
   "outputs": [],
   "source": [
    "usuario_mod = \"'\" + \"gagarcia21\" + \"'\"\n",
    "\n",
    "query = \"SELECT * FROM account WHERE username = \" + usuario_mod\n",
    "\n",
    "import psycopg2"
   ]
  },
  {
   "cell_type": "code",
   "execution_count": 9,
   "id": "contained-fundamental",
   "metadata": {},
   "outputs": [],
   "source": [
    "conn = psycopg2.connect(database  = \"finance\",user = \"postgres\",password = \"PASSWORD\",port = \"5432\")\n",
    "cur = conn.cursor()\n",
    "cur.execute(query)"
   ]
  },
  {
   "cell_type": "code",
   "execution_count": 10,
   "id": "reported-current",
   "metadata": {},
   "outputs": [],
   "source": [
    "rows = cur.fetchall()"
   ]
  },
  {
   "cell_type": "code",
   "execution_count": 12,
   "id": "blind-twenty",
   "metadata": {},
   "outputs": [
    {
     "name": "stdout",
     "output_type": "stream",
     "text": [
      "[(8, 'gagarcia21', 'Gabriel', 'nogueira garcia', '1234', 'gagarcia21@gmail.com', datetime.datetime(2021, 3, 18, 10, 44, 16, 61710), None)]\n"
     ]
    }
   ],
   "source": [
    "print(rows)"
   ]
  },
  {
   "cell_type": "code",
   "execution_count": null,
   "id": "bronze-craft",
   "metadata": {},
   "outputs": [],
   "source": []
  }
 ],
 "metadata": {
  "kernelspec": {
   "display_name": "Python 3",
   "language": "python",
   "name": "python3"
  },
  "language_info": {
   "codemirror_mode": {
    "name": "ipython",
    "version": 3
   },
   "file_extension": ".py",
   "mimetype": "text/x-python",
   "name": "python",
   "nbconvert_exporter": "python",
   "pygments_lexer": "ipython3",
   "version": "3.8.3"
  }
 },
 "nbformat": 4,
 "nbformat_minor": 5
}
